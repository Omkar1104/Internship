{
  "cells": [
    {
      "cell_type": "markdown",
      "id": "0037bcab",
      "metadata": {
        "id": "0037bcab"
      },
      "source": [
        "## Assignment 1- Question 1"
      ]
    },
    {
      "cell_type": "code",
      "execution_count": null,
      "id": "ad0cad40",
      "metadata": {
        "id": "ad0cad40"
      },
      "outputs": [],
      "source": [
        "import pandas as pd\n",
        "import numpy as np\n",
        "import math"
      ]
    },
    {
      "cell_type": "code",
      "execution_count": null,
      "id": "c5a1e171",
      "metadata": {
        "id": "c5a1e171",
        "outputId": "128172fc-0df2-49d7-af00-64e1c863396b"
      },
      "outputs": [
        {
          "data": {
            "text/html": [
              "<div>\n",
              "<style scoped>\n",
              "    .dataframe tbody tr th:only-of-type {\n",
              "        vertical-align: middle;\n",
              "    }\n",
              "\n",
              "    .dataframe tbody tr th {\n",
              "        vertical-align: top;\n",
              "    }\n",
              "\n",
              "    .dataframe thead th {\n",
              "        text-align: right;\n",
              "    }\n",
              "</style>\n",
              "<table border=\"1\" class=\"dataframe\">\n",
              "  <thead>\n",
              "    <tr style=\"text-align: right;\">\n",
              "      <th></th>\n",
              "      <th>ID</th>\n",
              "      <th>Product</th>\n",
              "      <th>Color</th>\n",
              "      <th>Discount</th>\n",
              "    </tr>\n",
              "  </thead>\n",
              "  <tbody>\n",
              "    <tr>\n",
              "      <th>0</th>\n",
              "      <td>114</td>\n",
              "      <td>shirt</td>\n",
              "      <td>White</td>\n",
              "      <td>10</td>\n",
              "    </tr>\n",
              "    <tr>\n",
              "      <th>1</th>\n",
              "      <td>345</td>\n",
              "      <td>trousers</td>\n",
              "      <td>Black</td>\n",
              "      <td>10</td>\n",
              "    </tr>\n",
              "    <tr>\n",
              "      <th>2</th>\n",
              "      <td>157788</td>\n",
              "      <td>tie</td>\n",
              "      <td>Red</td>\n",
              "      <td>10</td>\n",
              "    </tr>\n",
              "    <tr>\n",
              "      <th>3</th>\n",
              "      <td>5626</td>\n",
              "      <td>belt</td>\n",
              "      <td>Brown</td>\n",
              "      <td>10</td>\n",
              "    </tr>\n",
              "  </tbody>\n",
              "</table>\n",
              "</div>"
            ],
            "text/plain": [
              "       ID   Product  Color  Discount\n",
              "0     114     shirt  White        10\n",
              "1     345  trousers  Black        10\n",
              "2  157788       tie    Red        10\n",
              "3    5626      belt  Brown        10"
            ]
          },
          "execution_count": 4,
          "metadata": {},
          "output_type": "execute_result"
        }
      ],
      "source": [
        "df=pd.DataFrame({'ID':[114, 345, 157788, 5626],\n",
        "                   'Product':['shirt', 'trousers', 'tie', 'belt'],\n",
        "                   'Color':['White', 'Black', 'Red', 'Brown'],\n",
        "                   'Discount':[10, 10, 10, 10]})\n",
        "df.head()"
      ]
    },
    {
      "cell_type": "code",
      "execution_count": null,
      "id": "b94c3c54",
      "metadata": {
        "id": "b94c3c54",
        "outputId": "050cc523-6067-44b3-dafd-7955fff0b952"
      },
      "outputs": [
        {
          "data": {
            "text/html": [
              "<div>\n",
              "<style scoped>\n",
              "    .dataframe tbody tr th:only-of-type {\n",
              "        vertical-align: middle;\n",
              "    }\n",
              "\n",
              "    .dataframe tbody tr th {\n",
              "        vertical-align: top;\n",
              "    }\n",
              "\n",
              "    .dataframe thead th {\n",
              "        text-align: right;\n",
              "    }\n",
              "</style>\n",
              "<table border=\"1\" class=\"dataframe\">\n",
              "  <thead>\n",
              "    <tr style=\"text-align: right;\">\n",
              "      <th></th>\n",
              "      <th>ID</th>\n",
              "      <th>Product</th>\n",
              "      <th>Color</th>\n",
              "      <th>Discount</th>\n",
              "    </tr>\n",
              "  </thead>\n",
              "  <tbody>\n",
              "    <tr>\n",
              "      <th>0</th>\n",
              "      <td>114</td>\n",
              "      <td>shirt</td>\n",
              "      <td>White</td>\n",
              "      <td>10</td>\n",
              "    </tr>\n",
              "    <tr>\n",
              "      <th>1</th>\n",
              "      <td>345</td>\n",
              "      <td>trousers</td>\n",
              "      <td>Black</td>\n",
              "      <td>10</td>\n",
              "    </tr>\n",
              "    <tr>\n",
              "      <th>2</th>\n",
              "      <td>157788</td>\n",
              "      <td>tie</td>\n",
              "      <td>Red</td>\n",
              "      <td>10</td>\n",
              "    </tr>\n",
              "    <tr>\n",
              "      <th>3</th>\n",
              "      <td>5626</td>\n",
              "      <td>belt</td>\n",
              "      <td>Brown</td>\n",
              "      <td>10</td>\n",
              "    </tr>\n",
              "  </tbody>\n",
              "</table>\n",
              "</div>"
            ],
            "text/plain": [
              "       ID   Product  Color  Discount\n",
              "0     114     shirt  White        10\n",
              "1     345  trousers  Black        10\n",
              "2  157788       tie    Red        10\n",
              "3    5626      belt  Brown        10"
            ]
          },
          "execution_count": 5,
          "metadata": {},
          "output_type": "execute_result"
        }
      ],
      "source": [
        "df.tail()"
      ]
    },
    {
      "cell_type": "code",
      "execution_count": null,
      "id": "067b2266",
      "metadata": {
        "id": "067b2266",
        "outputId": "8539a725-fc80-4bd5-a17d-c7856bd95b64"
      },
      "outputs": [
        {
          "name": "stdout",
          "output_type": "stream",
          "text": [
            "<class 'pandas.core.frame.DataFrame'>\n",
            "RangeIndex: 4 entries, 0 to 3\n",
            "Data columns (total 4 columns):\n",
            " #   Column    Non-Null Count  Dtype \n",
            "---  ------    --------------  ----- \n",
            " 0   ID        4 non-null      int64 \n",
            " 1   Product   4 non-null      object\n",
            " 2   Color     4 non-null      object\n",
            " 3   Discount  4 non-null      int64 \n",
            "dtypes: int64(2), object(2)\n",
            "memory usage: 256.0+ bytes\n"
          ]
        }
      ],
      "source": [
        "df.info()"
      ]
    },
    {
      "cell_type": "code",
      "execution_count": null,
      "id": "019dc51c",
      "metadata": {
        "id": "019dc51c",
        "outputId": "db211d3e-178f-4bf9-cb86-d3a88aaf0314"
      },
      "outputs": [
        {
          "data": {
            "text/html": [
              "<div>\n",
              "<style scoped>\n",
              "    .dataframe tbody tr th:only-of-type {\n",
              "        vertical-align: middle;\n",
              "    }\n",
              "\n",
              "    .dataframe tbody tr th {\n",
              "        vertical-align: top;\n",
              "    }\n",
              "\n",
              "    .dataframe thead th {\n",
              "        text-align: right;\n",
              "    }\n",
              "</style>\n",
              "<table border=\"1\" class=\"dataframe\">\n",
              "  <thead>\n",
              "    <tr style=\"text-align: right;\">\n",
              "      <th></th>\n",
              "      <th>ID</th>\n",
              "      <th>Discount</th>\n",
              "    </tr>\n",
              "  </thead>\n",
              "  <tbody>\n",
              "    <tr>\n",
              "      <th>count</th>\n",
              "      <td>4.000000</td>\n",
              "      <td>4.0</td>\n",
              "    </tr>\n",
              "    <tr>\n",
              "      <th>mean</th>\n",
              "      <td>40968.250000</td>\n",
              "      <td>10.0</td>\n",
              "    </tr>\n",
              "    <tr>\n",
              "      <th>std</th>\n",
              "      <td>77921.427966</td>\n",
              "      <td>0.0</td>\n",
              "    </tr>\n",
              "    <tr>\n",
              "      <th>min</th>\n",
              "      <td>114.000000</td>\n",
              "      <td>10.0</td>\n",
              "    </tr>\n",
              "    <tr>\n",
              "      <th>25%</th>\n",
              "      <td>287.250000</td>\n",
              "      <td>10.0</td>\n",
              "    </tr>\n",
              "    <tr>\n",
              "      <th>50%</th>\n",
              "      <td>2985.500000</td>\n",
              "      <td>10.0</td>\n",
              "    </tr>\n",
              "    <tr>\n",
              "      <th>75%</th>\n",
              "      <td>43666.500000</td>\n",
              "      <td>10.0</td>\n",
              "    </tr>\n",
              "    <tr>\n",
              "      <th>max</th>\n",
              "      <td>157788.000000</td>\n",
              "      <td>10.0</td>\n",
              "    </tr>\n",
              "  </tbody>\n",
              "</table>\n",
              "</div>"
            ],
            "text/plain": [
              "                  ID  Discount\n",
              "count       4.000000       4.0\n",
              "mean    40968.250000      10.0\n",
              "std     77921.427966       0.0\n",
              "min       114.000000      10.0\n",
              "25%       287.250000      10.0\n",
              "50%      2985.500000      10.0\n",
              "75%     43666.500000      10.0\n",
              "max    157788.000000      10.0"
            ]
          },
          "execution_count": 10,
          "metadata": {},
          "output_type": "execute_result"
        }
      ],
      "source": [
        "df.describe()"
      ]
    },
    {
      "cell_type": "code",
      "execution_count": null,
      "id": "282a4d9e",
      "metadata": {
        "id": "282a4d9e",
        "outputId": "22535ee8-62c4-48ea-a09f-bdb29ccafb11"
      },
      "outputs": [
        {
          "data": {
            "text/plain": [
              "ID          0\n",
              "Product     0\n",
              "Color       0\n",
              "Discount    0\n",
              "dtype: int64"
            ]
          },
          "execution_count": 11,
          "metadata": {},
          "output_type": "execute_result"
        }
      ],
      "source": [
        "df.isna().sum()"
      ]
    },
    {
      "cell_type": "markdown",
      "id": "ae838b37",
      "metadata": {
        "id": "ae838b37"
      },
      "source": [
        "## Assignment 1- Question 2"
      ]
    },
    {
      "cell_type": "code",
      "execution_count": 3,
      "id": "902ade08",
      "metadata": {
        "id": "902ade08"
      },
      "outputs": [],
      "source": [
        "marks = [10,30,42,48,21,98,33,80,11,19,70]"
      ]
    },
    {
      "cell_type": "code",
      "execution_count": 4,
      "id": "1482e669",
      "metadata": {
        "id": "1482e669"
      },
      "outputs": [],
      "source": [
        "def median(marks):\n",
        "    marks.sort()\n",
        "    if(len(marks)%2==0):\n",
        "        med_1=marks[int(len(marks)%2)+1]\n",
        "        med_2=marks[int(len(marks)%2)-1]\n",
        "        final_median=med_1+med_2/2\n",
        "    else:\n",
        "        final_median=marks[int(len(marks)/2)]\n",
        "    return final_median"
      ]
    },
    {
      "cell_type": "code",
      "execution_count": 5,
      "id": "f8444589",
      "metadata": {
        "colab": {
          "base_uri": "https://localhost:8080/"
        },
        "id": "f8444589",
        "outputId": "30b7a120-8848-4fd7-e633-c6ccb359e362"
      },
      "outputs": [
        {
          "output_type": "stream",
          "name": "stdout",
          "text": [
            "33\n"
          ]
        }
      ],
      "source": [
        "print(median(marks))"
      ]
    },
    {
      "cell_type": "markdown",
      "id": "718ea7b2",
      "metadata": {
        "id": "718ea7b2"
      },
      "source": [
        "## Assignment 1- Question 3"
      ]
    },
    {
      "cell_type": "markdown",
      "id": "3a0bf621",
      "metadata": {
        "id": "3a0bf621"
      },
      "source": [
        "Bias/Variance Tradeoff"
      ]
    },
    {
      "cell_type": "code",
      "execution_count": null,
      "id": "4ae04805",
      "metadata": {
        "id": "4ae04805"
      },
      "outputs": [],
      "source": []
    }
  ],
  "metadata": {
    "kernelspec": {
      "display_name": "Python 3 (ipykernel)",
      "language": "python",
      "name": "python3"
    },
    "language_info": {
      "codemirror_mode": {
        "name": "ipython",
        "version": 3
      },
      "file_extension": ".py",
      "mimetype": "text/x-python",
      "name": "python",
      "nbconvert_exporter": "python",
      "pygments_lexer": "ipython3",
      "version": "3.11.0"
    },
    "colab": {
      "provenance": []
    }
  },
  "nbformat": 4,
  "nbformat_minor": 5
}