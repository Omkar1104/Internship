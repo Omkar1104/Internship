{
  "nbformat": 4,
  "nbformat_minor": 0,
  "metadata": {
    "colab": {
      "provenance": []
    },
    "kernelspec": {
      "name": "python3",
      "display_name": "Python 3"
    },
    "language_info": {
      "name": "python"
    },
    "gpuClass": "standard"
  },
  "cells": [
    {
      "cell_type": "code",
      "execution_count": 28,
      "metadata": {
        "id": "gxvSS_1zbRy_"
      },
      "outputs": [],
      "source": [
        "import pandas as pd \n",
        "import numpy as np\n",
        "import matplotlib.pyplot as plt\n",
        "%matplotlib inline \n",
        "import seaborn as sns"
      ]
    },
    {
      "cell_type": "code",
      "source": [
        "df=pd.read_csv(\"/content/Ecommerce Customers\")\n",
        "df"
      ],
      "metadata": {
        "colab": {
          "base_uri": "https://localhost:8080/",
          "height": 904
        },
        "id": "TiPw4K1-b-wt",
        "outputId": "6b0011c3-4c31-4996-a86f-8a3d9fb89083"
      },
      "execution_count": 29,
      "outputs": [
        {
          "output_type": "execute_result",
          "data": {
            "text/plain": [
              "                             Email  \\\n",
              "0        mstephenson@fernandez.com   \n",
              "1                hduke@hotmail.com   \n",
              "2                 pallen@yahoo.com   \n",
              "3          riverarebecca@gmail.com   \n",
              "4    mstephens@davidson-herman.com   \n",
              "..                             ...   \n",
              "495   lewisjessica@craig-evans.com   \n",
              "496            katrina56@gmail.com   \n",
              "497             dale88@hotmail.com   \n",
              "498            cwilson@hotmail.com   \n",
              "499      hannahwilson@davidson.com   \n",
              "\n",
              "                                               Address            Avatar  \\\n",
              "0         835 Frank Tunnel\\nWrightmouth, MI 82180-9605            Violet   \n",
              "1       4547 Archer Common\\nDiazchester, CA 06566-8576         DarkGreen   \n",
              "2    24645 Valerie Unions Suite 582\\nCobbborough, D...            Bisque   \n",
              "3     1414 David Throughway\\nPort Jason, OH 22070-1220       SaddleBrown   \n",
              "4    14023 Rodriguez Passage\\nPort Jacobville, PR 3...  MediumAquaMarine   \n",
              "..                                                 ...               ...   \n",
              "495  4483 Jones Motorway Suite 872\\nLake Jamiefurt,...               Tan   \n",
              "496  172 Owen Divide Suite 497\\nWest Richard, CA 19320     PaleVioletRed   \n",
              "497  0787 Andrews Ranch Apt. 633\\nSouth Chadburgh, ...          Cornsilk   \n",
              "498  680 Jennifer Lodge Apt. 808\\nBrendachester, TX...              Teal   \n",
              "499  49791 Rachel Heights Apt. 898\\nEast Drewboroug...       DarkMagenta   \n",
              "\n",
              "     Avg. Session Length  Time on App  Time on Website  Length of Membership  \\\n",
              "0              34.497268    12.655651        39.577668              4.082621   \n",
              "1              31.926272    11.109461        37.268959              2.664034   \n",
              "2              33.000915    11.330278        37.110597              4.104543   \n",
              "3              34.305557    13.717514        36.721283              3.120179   \n",
              "4              33.330673    12.795189        37.536653              4.446308   \n",
              "..                   ...          ...              ...                   ...   \n",
              "495            33.237660    13.566160        36.417985              3.746573   \n",
              "496            34.702529    11.695736        37.190268              3.576526   \n",
              "497            32.646777    11.499409        38.332576              4.958264   \n",
              "498            33.322501    12.391423        36.840086              2.336485   \n",
              "499            33.715981    12.418808        35.771016              2.735160   \n",
              "\n",
              "     Yearly Amount Spent  \n",
              "0             587.951054  \n",
              "1             392.204933  \n",
              "2             487.547505  \n",
              "3             581.852344  \n",
              "4             599.406092  \n",
              "..                   ...  \n",
              "495           573.847438  \n",
              "496           529.049004  \n",
              "497           551.620145  \n",
              "498           456.469510  \n",
              "499           497.778642  \n",
              "\n",
              "[500 rows x 8 columns]"
            ],
            "text/html": [
              "\n",
              "  <div id=\"df-a8a5659c-cbcd-40f1-abf1-8d55e4620739\">\n",
              "    <div class=\"colab-df-container\">\n",
              "      <div>\n",
              "<style scoped>\n",
              "    .dataframe tbody tr th:only-of-type {\n",
              "        vertical-align: middle;\n",
              "    }\n",
              "\n",
              "    .dataframe tbody tr th {\n",
              "        vertical-align: top;\n",
              "    }\n",
              "\n",
              "    .dataframe thead th {\n",
              "        text-align: right;\n",
              "    }\n",
              "</style>\n",
              "<table border=\"1\" class=\"dataframe\">\n",
              "  <thead>\n",
              "    <tr style=\"text-align: right;\">\n",
              "      <th></th>\n",
              "      <th>Email</th>\n",
              "      <th>Address</th>\n",
              "      <th>Avatar</th>\n",
              "      <th>Avg. Session Length</th>\n",
              "      <th>Time on App</th>\n",
              "      <th>Time on Website</th>\n",
              "      <th>Length of Membership</th>\n",
              "      <th>Yearly Amount Spent</th>\n",
              "    </tr>\n",
              "  </thead>\n",
              "  <tbody>\n",
              "    <tr>\n",
              "      <th>0</th>\n",
              "      <td>mstephenson@fernandez.com</td>\n",
              "      <td>835 Frank Tunnel\\nWrightmouth, MI 82180-9605</td>\n",
              "      <td>Violet</td>\n",
              "      <td>34.497268</td>\n",
              "      <td>12.655651</td>\n",
              "      <td>39.577668</td>\n",
              "      <td>4.082621</td>\n",
              "      <td>587.951054</td>\n",
              "    </tr>\n",
              "    <tr>\n",
              "      <th>1</th>\n",
              "      <td>hduke@hotmail.com</td>\n",
              "      <td>4547 Archer Common\\nDiazchester, CA 06566-8576</td>\n",
              "      <td>DarkGreen</td>\n",
              "      <td>31.926272</td>\n",
              "      <td>11.109461</td>\n",
              "      <td>37.268959</td>\n",
              "      <td>2.664034</td>\n",
              "      <td>392.204933</td>\n",
              "    </tr>\n",
              "    <tr>\n",
              "      <th>2</th>\n",
              "      <td>pallen@yahoo.com</td>\n",
              "      <td>24645 Valerie Unions Suite 582\\nCobbborough, D...</td>\n",
              "      <td>Bisque</td>\n",
              "      <td>33.000915</td>\n",
              "      <td>11.330278</td>\n",
              "      <td>37.110597</td>\n",
              "      <td>4.104543</td>\n",
              "      <td>487.547505</td>\n",
              "    </tr>\n",
              "    <tr>\n",
              "      <th>3</th>\n",
              "      <td>riverarebecca@gmail.com</td>\n",
              "      <td>1414 David Throughway\\nPort Jason, OH 22070-1220</td>\n",
              "      <td>SaddleBrown</td>\n",
              "      <td>34.305557</td>\n",
              "      <td>13.717514</td>\n",
              "      <td>36.721283</td>\n",
              "      <td>3.120179</td>\n",
              "      <td>581.852344</td>\n",
              "    </tr>\n",
              "    <tr>\n",
              "      <th>4</th>\n",
              "      <td>mstephens@davidson-herman.com</td>\n",
              "      <td>14023 Rodriguez Passage\\nPort Jacobville, PR 3...</td>\n",
              "      <td>MediumAquaMarine</td>\n",
              "      <td>33.330673</td>\n",
              "      <td>12.795189</td>\n",
              "      <td>37.536653</td>\n",
              "      <td>4.446308</td>\n",
              "      <td>599.406092</td>\n",
              "    </tr>\n",
              "    <tr>\n",
              "      <th>...</th>\n",
              "      <td>...</td>\n",
              "      <td>...</td>\n",
              "      <td>...</td>\n",
              "      <td>...</td>\n",
              "      <td>...</td>\n",
              "      <td>...</td>\n",
              "      <td>...</td>\n",
              "      <td>...</td>\n",
              "    </tr>\n",
              "    <tr>\n",
              "      <th>495</th>\n",
              "      <td>lewisjessica@craig-evans.com</td>\n",
              "      <td>4483 Jones Motorway Suite 872\\nLake Jamiefurt,...</td>\n",
              "      <td>Tan</td>\n",
              "      <td>33.237660</td>\n",
              "      <td>13.566160</td>\n",
              "      <td>36.417985</td>\n",
              "      <td>3.746573</td>\n",
              "      <td>573.847438</td>\n",
              "    </tr>\n",
              "    <tr>\n",
              "      <th>496</th>\n",
              "      <td>katrina56@gmail.com</td>\n",
              "      <td>172 Owen Divide Suite 497\\nWest Richard, CA 19320</td>\n",
              "      <td>PaleVioletRed</td>\n",
              "      <td>34.702529</td>\n",
              "      <td>11.695736</td>\n",
              "      <td>37.190268</td>\n",
              "      <td>3.576526</td>\n",
              "      <td>529.049004</td>\n",
              "    </tr>\n",
              "    <tr>\n",
              "      <th>497</th>\n",
              "      <td>dale88@hotmail.com</td>\n",
              "      <td>0787 Andrews Ranch Apt. 633\\nSouth Chadburgh, ...</td>\n",
              "      <td>Cornsilk</td>\n",
              "      <td>32.646777</td>\n",
              "      <td>11.499409</td>\n",
              "      <td>38.332576</td>\n",
              "      <td>4.958264</td>\n",
              "      <td>551.620145</td>\n",
              "    </tr>\n",
              "    <tr>\n",
              "      <th>498</th>\n",
              "      <td>cwilson@hotmail.com</td>\n",
              "      <td>680 Jennifer Lodge Apt. 808\\nBrendachester, TX...</td>\n",
              "      <td>Teal</td>\n",
              "      <td>33.322501</td>\n",
              "      <td>12.391423</td>\n",
              "      <td>36.840086</td>\n",
              "      <td>2.336485</td>\n",
              "      <td>456.469510</td>\n",
              "    </tr>\n",
              "    <tr>\n",
              "      <th>499</th>\n",
              "      <td>hannahwilson@davidson.com</td>\n",
              "      <td>49791 Rachel Heights Apt. 898\\nEast Drewboroug...</td>\n",
              "      <td>DarkMagenta</td>\n",
              "      <td>33.715981</td>\n",
              "      <td>12.418808</td>\n",
              "      <td>35.771016</td>\n",
              "      <td>2.735160</td>\n",
              "      <td>497.778642</td>\n",
              "    </tr>\n",
              "  </tbody>\n",
              "</table>\n",
              "<p>500 rows × 8 columns</p>\n",
              "</div>\n",
              "      <button class=\"colab-df-convert\" onclick=\"convertToInteractive('df-a8a5659c-cbcd-40f1-abf1-8d55e4620739')\"\n",
              "              title=\"Convert this dataframe to an interactive table.\"\n",
              "              style=\"display:none;\">\n",
              "        \n",
              "  <svg xmlns=\"http://www.w3.org/2000/svg\" height=\"24px\"viewBox=\"0 0 24 24\"\n",
              "       width=\"24px\">\n",
              "    <path d=\"M0 0h24v24H0V0z\" fill=\"none\"/>\n",
              "    <path d=\"M18.56 5.44l.94 2.06.94-2.06 2.06-.94-2.06-.94-.94-2.06-.94 2.06-2.06.94zm-11 1L8.5 8.5l.94-2.06 2.06-.94-2.06-.94L8.5 2.5l-.94 2.06-2.06.94zm10 10l.94 2.06.94-2.06 2.06-.94-2.06-.94-.94-2.06-.94 2.06-2.06.94z\"/><path d=\"M17.41 7.96l-1.37-1.37c-.4-.4-.92-.59-1.43-.59-.52 0-1.04.2-1.43.59L10.3 9.45l-7.72 7.72c-.78.78-.78 2.05 0 2.83L4 21.41c.39.39.9.59 1.41.59.51 0 1.02-.2 1.41-.59l7.78-7.78 2.81-2.81c.8-.78.8-2.07 0-2.86zM5.41 20L4 18.59l7.72-7.72 1.47 1.35L5.41 20z\"/>\n",
              "  </svg>\n",
              "      </button>\n",
              "      \n",
              "  <style>\n",
              "    .colab-df-container {\n",
              "      display:flex;\n",
              "      flex-wrap:wrap;\n",
              "      gap: 12px;\n",
              "    }\n",
              "\n",
              "    .colab-df-convert {\n",
              "      background-color: #E8F0FE;\n",
              "      border: none;\n",
              "      border-radius: 50%;\n",
              "      cursor: pointer;\n",
              "      display: none;\n",
              "      fill: #1967D2;\n",
              "      height: 32px;\n",
              "      padding: 0 0 0 0;\n",
              "      width: 32px;\n",
              "    }\n",
              "\n",
              "    .colab-df-convert:hover {\n",
              "      background-color: #E2EBFA;\n",
              "      box-shadow: 0px 1px 2px rgba(60, 64, 67, 0.3), 0px 1px 3px 1px rgba(60, 64, 67, 0.15);\n",
              "      fill: #174EA6;\n",
              "    }\n",
              "\n",
              "    [theme=dark] .colab-df-convert {\n",
              "      background-color: #3B4455;\n",
              "      fill: #D2E3FC;\n",
              "    }\n",
              "\n",
              "    [theme=dark] .colab-df-convert:hover {\n",
              "      background-color: #434B5C;\n",
              "      box-shadow: 0px 1px 3px 1px rgba(0, 0, 0, 0.15);\n",
              "      filter: drop-shadow(0px 1px 2px rgba(0, 0, 0, 0.3));\n",
              "      fill: #FFFFFF;\n",
              "    }\n",
              "  </style>\n",
              "\n",
              "      <script>\n",
              "        const buttonEl =\n",
              "          document.querySelector('#df-a8a5659c-cbcd-40f1-abf1-8d55e4620739 button.colab-df-convert');\n",
              "        buttonEl.style.display =\n",
              "          google.colab.kernel.accessAllowed ? 'block' : 'none';\n",
              "\n",
              "        async function convertToInteractive(key) {\n",
              "          const element = document.querySelector('#df-a8a5659c-cbcd-40f1-abf1-8d55e4620739');\n",
              "          const dataTable =\n",
              "            await google.colab.kernel.invokeFunction('convertToInteractive',\n",
              "                                                     [key], {});\n",
              "          if (!dataTable) return;\n",
              "\n",
              "          const docLinkHtml = 'Like what you see? Visit the ' +\n",
              "            '<a target=\"_blank\" href=https://colab.research.google.com/notebooks/data_table.ipynb>data table notebook</a>'\n",
              "            + ' to learn more about interactive tables.';\n",
              "          element.innerHTML = '';\n",
              "          dataTable['output_type'] = 'display_data';\n",
              "          await google.colab.output.renderOutput(dataTable, element);\n",
              "          const docLink = document.createElement('div');\n",
              "          docLink.innerHTML = docLinkHtml;\n",
              "          element.appendChild(docLink);\n",
              "        }\n",
              "      </script>\n",
              "    </div>\n",
              "  </div>\n",
              "  "
            ]
          },
          "metadata": {},
          "execution_count": 29
        }
      ]
    },
    {
      "cell_type": "code",
      "source": [
        "df.info()"
      ],
      "metadata": {
        "colab": {
          "base_uri": "https://localhost:8080/"
        },
        "id": "s2IBwJ7ncGif",
        "outputId": "18557739-a96f-45cb-b9c6-10af088ecd93"
      },
      "execution_count": 30,
      "outputs": [
        {
          "output_type": "stream",
          "name": "stdout",
          "text": [
            "<class 'pandas.core.frame.DataFrame'>\n",
            "RangeIndex: 500 entries, 0 to 499\n",
            "Data columns (total 8 columns):\n",
            " #   Column                Non-Null Count  Dtype  \n",
            "---  ------                --------------  -----  \n",
            " 0   Email                 500 non-null    object \n",
            " 1   Address               500 non-null    object \n",
            " 2   Avatar                500 non-null    object \n",
            " 3   Avg. Session Length   500 non-null    float64\n",
            " 4   Time on App           500 non-null    float64\n",
            " 5   Time on Website       500 non-null    float64\n",
            " 6   Length of Membership  500 non-null    float64\n",
            " 7   Yearly Amount Spent   500 non-null    float64\n",
            "dtypes: float64(5), object(3)\n",
            "memory usage: 31.4+ KB\n"
          ]
        }
      ]
    },
    {
      "cell_type": "code",
      "source": [
        "df.describe()"
      ],
      "metadata": {
        "colab": {
          "base_uri": "https://localhost:8080/",
          "height": 300
        },
        "id": "9UZYmeDScSYB",
        "outputId": "c1706177-c740-438d-9190-926818d9f85a"
      },
      "execution_count": 31,
      "outputs": [
        {
          "output_type": "execute_result",
          "data": {
            "text/plain": [
              "       Avg. Session Length  Time on App  Time on Website  \\\n",
              "count           500.000000   500.000000       500.000000   \n",
              "mean             33.053194    12.052488        37.060445   \n",
              "std               0.992563     0.994216         1.010489   \n",
              "min              29.532429     8.508152        33.913847   \n",
              "25%              32.341822    11.388153        36.349257   \n",
              "50%              33.082008    11.983231        37.069367   \n",
              "75%              33.711985    12.753850        37.716432   \n",
              "max              36.139662    15.126994        40.005182   \n",
              "\n",
              "       Length of Membership  Yearly Amount Spent  \n",
              "count            500.000000           500.000000  \n",
              "mean               3.533462           499.314038  \n",
              "std                0.999278            79.314782  \n",
              "min                0.269901           256.670582  \n",
              "25%                2.930450           445.038277  \n",
              "50%                3.533975           498.887875  \n",
              "75%                4.126502           549.313828  \n",
              "max                6.922689           765.518462  "
            ],
            "text/html": [
              "\n",
              "  <div id=\"df-6b24056f-7698-4f23-afa5-84d9e3ba1d17\">\n",
              "    <div class=\"colab-df-container\">\n",
              "      <div>\n",
              "<style scoped>\n",
              "    .dataframe tbody tr th:only-of-type {\n",
              "        vertical-align: middle;\n",
              "    }\n",
              "\n",
              "    .dataframe tbody tr th {\n",
              "        vertical-align: top;\n",
              "    }\n",
              "\n",
              "    .dataframe thead th {\n",
              "        text-align: right;\n",
              "    }\n",
              "</style>\n",
              "<table border=\"1\" class=\"dataframe\">\n",
              "  <thead>\n",
              "    <tr style=\"text-align: right;\">\n",
              "      <th></th>\n",
              "      <th>Avg. Session Length</th>\n",
              "      <th>Time on App</th>\n",
              "      <th>Time on Website</th>\n",
              "      <th>Length of Membership</th>\n",
              "      <th>Yearly Amount Spent</th>\n",
              "    </tr>\n",
              "  </thead>\n",
              "  <tbody>\n",
              "    <tr>\n",
              "      <th>count</th>\n",
              "      <td>500.000000</td>\n",
              "      <td>500.000000</td>\n",
              "      <td>500.000000</td>\n",
              "      <td>500.000000</td>\n",
              "      <td>500.000000</td>\n",
              "    </tr>\n",
              "    <tr>\n",
              "      <th>mean</th>\n",
              "      <td>33.053194</td>\n",
              "      <td>12.052488</td>\n",
              "      <td>37.060445</td>\n",
              "      <td>3.533462</td>\n",
              "      <td>499.314038</td>\n",
              "    </tr>\n",
              "    <tr>\n",
              "      <th>std</th>\n",
              "      <td>0.992563</td>\n",
              "      <td>0.994216</td>\n",
              "      <td>1.010489</td>\n",
              "      <td>0.999278</td>\n",
              "      <td>79.314782</td>\n",
              "    </tr>\n",
              "    <tr>\n",
              "      <th>min</th>\n",
              "      <td>29.532429</td>\n",
              "      <td>8.508152</td>\n",
              "      <td>33.913847</td>\n",
              "      <td>0.269901</td>\n",
              "      <td>256.670582</td>\n",
              "    </tr>\n",
              "    <tr>\n",
              "      <th>25%</th>\n",
              "      <td>32.341822</td>\n",
              "      <td>11.388153</td>\n",
              "      <td>36.349257</td>\n",
              "      <td>2.930450</td>\n",
              "      <td>445.038277</td>\n",
              "    </tr>\n",
              "    <tr>\n",
              "      <th>50%</th>\n",
              "      <td>33.082008</td>\n",
              "      <td>11.983231</td>\n",
              "      <td>37.069367</td>\n",
              "      <td>3.533975</td>\n",
              "      <td>498.887875</td>\n",
              "    </tr>\n",
              "    <tr>\n",
              "      <th>75%</th>\n",
              "      <td>33.711985</td>\n",
              "      <td>12.753850</td>\n",
              "      <td>37.716432</td>\n",
              "      <td>4.126502</td>\n",
              "      <td>549.313828</td>\n",
              "    </tr>\n",
              "    <tr>\n",
              "      <th>max</th>\n",
              "      <td>36.139662</td>\n",
              "      <td>15.126994</td>\n",
              "      <td>40.005182</td>\n",
              "      <td>6.922689</td>\n",
              "      <td>765.518462</td>\n",
              "    </tr>\n",
              "  </tbody>\n",
              "</table>\n",
              "</div>\n",
              "      <button class=\"colab-df-convert\" onclick=\"convertToInteractive('df-6b24056f-7698-4f23-afa5-84d9e3ba1d17')\"\n",
              "              title=\"Convert this dataframe to an interactive table.\"\n",
              "              style=\"display:none;\">\n",
              "        \n",
              "  <svg xmlns=\"http://www.w3.org/2000/svg\" height=\"24px\"viewBox=\"0 0 24 24\"\n",
              "       width=\"24px\">\n",
              "    <path d=\"M0 0h24v24H0V0z\" fill=\"none\"/>\n",
              "    <path d=\"M18.56 5.44l.94 2.06.94-2.06 2.06-.94-2.06-.94-.94-2.06-.94 2.06-2.06.94zm-11 1L8.5 8.5l.94-2.06 2.06-.94-2.06-.94L8.5 2.5l-.94 2.06-2.06.94zm10 10l.94 2.06.94-2.06 2.06-.94-2.06-.94-.94-2.06-.94 2.06-2.06.94z\"/><path d=\"M17.41 7.96l-1.37-1.37c-.4-.4-.92-.59-1.43-.59-.52 0-1.04.2-1.43.59L10.3 9.45l-7.72 7.72c-.78.78-.78 2.05 0 2.83L4 21.41c.39.39.9.59 1.41.59.51 0 1.02-.2 1.41-.59l7.78-7.78 2.81-2.81c.8-.78.8-2.07 0-2.86zM5.41 20L4 18.59l7.72-7.72 1.47 1.35L5.41 20z\"/>\n",
              "  </svg>\n",
              "      </button>\n",
              "      \n",
              "  <style>\n",
              "    .colab-df-container {\n",
              "      display:flex;\n",
              "      flex-wrap:wrap;\n",
              "      gap: 12px;\n",
              "    }\n",
              "\n",
              "    .colab-df-convert {\n",
              "      background-color: #E8F0FE;\n",
              "      border: none;\n",
              "      border-radius: 50%;\n",
              "      cursor: pointer;\n",
              "      display: none;\n",
              "      fill: #1967D2;\n",
              "      height: 32px;\n",
              "      padding: 0 0 0 0;\n",
              "      width: 32px;\n",
              "    }\n",
              "\n",
              "    .colab-df-convert:hover {\n",
              "      background-color: #E2EBFA;\n",
              "      box-shadow: 0px 1px 2px rgba(60, 64, 67, 0.3), 0px 1px 3px 1px rgba(60, 64, 67, 0.15);\n",
              "      fill: #174EA6;\n",
              "    }\n",
              "\n",
              "    [theme=dark] .colab-df-convert {\n",
              "      background-color: #3B4455;\n",
              "      fill: #D2E3FC;\n",
              "    }\n",
              "\n",
              "    [theme=dark] .colab-df-convert:hover {\n",
              "      background-color: #434B5C;\n",
              "      box-shadow: 0px 1px 3px 1px rgba(0, 0, 0, 0.15);\n",
              "      filter: drop-shadow(0px 1px 2px rgba(0, 0, 0, 0.3));\n",
              "      fill: #FFFFFF;\n",
              "    }\n",
              "  </style>\n",
              "\n",
              "      <script>\n",
              "        const buttonEl =\n",
              "          document.querySelector('#df-6b24056f-7698-4f23-afa5-84d9e3ba1d17 button.colab-df-convert');\n",
              "        buttonEl.style.display =\n",
              "          google.colab.kernel.accessAllowed ? 'block' : 'none';\n",
              "\n",
              "        async function convertToInteractive(key) {\n",
              "          const element = document.querySelector('#df-6b24056f-7698-4f23-afa5-84d9e3ba1d17');\n",
              "          const dataTable =\n",
              "            await google.colab.kernel.invokeFunction('convertToInteractive',\n",
              "                                                     [key], {});\n",
              "          if (!dataTable) return;\n",
              "\n",
              "          const docLinkHtml = 'Like what you see? Visit the ' +\n",
              "            '<a target=\"_blank\" href=https://colab.research.google.com/notebooks/data_table.ipynb>data table notebook</a>'\n",
              "            + ' to learn more about interactive tables.';\n",
              "          element.innerHTML = '';\n",
              "          dataTable['output_type'] = 'display_data';\n",
              "          await google.colab.output.renderOutput(dataTable, element);\n",
              "          const docLink = document.createElement('div');\n",
              "          docLink.innerHTML = docLinkHtml;\n",
              "          element.appendChild(docLink);\n",
              "        }\n",
              "      </script>\n",
              "    </div>\n",
              "  </div>\n",
              "  "
            ]
          },
          "metadata": {},
          "execution_count": 31
        }
      ]
    },
    {
      "cell_type": "code",
      "source": [
        "df.isna().sum()"
      ],
      "metadata": {
        "colab": {
          "base_uri": "https://localhost:8080/"
        },
        "id": "DOo0u5XFcTdP",
        "outputId": "b97ff287-abc2-42d7-b753-bc796e61e9bd"
      },
      "execution_count": 32,
      "outputs": [
        {
          "output_type": "execute_result",
          "data": {
            "text/plain": [
              "Email                   0\n",
              "Address                 0\n",
              "Avatar                  0\n",
              "Avg. Session Length     0\n",
              "Time on App             0\n",
              "Time on Website         0\n",
              "Length of Membership    0\n",
              "Yearly Amount Spent     0\n",
              "dtype: int64"
            ]
          },
          "metadata": {},
          "execution_count": 32
        }
      ]
    },
    {
      "cell_type": "code",
      "source": [
        "corr=df.corr()\n",
        "cf_matrix=sns.heatmap(corr, cmap='RdYlBu',annot=True)\n",
        "cf_matrix;"
      ],
      "metadata": {
        "colab": {
          "base_uri": "https://localhost:8080/",
          "height": 371
        },
        "id": "57nGRPjyceb3",
        "outputId": "ac4b3854-de66-429e-9769-e1d32f7c77f7"
      },
      "execution_count": 33,
      "outputs": [
        {
          "output_type": "display_data",
          "data": {
            "text/plain": [
              "<Figure size 432x288 with 2 Axes>"
            ],
            "image/png": "[encoded data removed]"
          },
          "metadata": {
            "needs_background": "light"
          }
        }
      ]
    },
    {
      "cell_type": "markdown",
      "source": [
        "The higher the value the more that feature is correlated with the target variable. Here the Time on website is having negative correlation with the yearly money spent variable."
      ],
      "metadata": {
        "id": "hjQ9BB29dF6D"
      }
    },
    {
      "cell_type": "code",
      "source": [
        "df.Avatar.value_counts()"
      ],
      "metadata": {
        "colab": {
          "base_uri": "https://localhost:8080/"
        },
        "id": "wH5KEgnZdbfc",
        "outputId": "b35a41f0-0c58-4a2a-d3e2-702c627cc179"
      },
      "execution_count": 34,
      "outputs": [
        {
          "output_type": "execute_result",
          "data": {
            "text/plain": [
              "SlateBlue               7\n",
              "Cyan                    7\n",
              "CadetBlue               7\n",
              "GreenYellow             7\n",
              "Teal                    7\n",
              "                       ..\n",
              "MediumPurple            1\n",
              "CornflowerBlue          1\n",
              "LightGoldenRodYellow    1\n",
              "PowderBlue              1\n",
              "LawnGreen               1\n",
              "Name: Avatar, Length: 138, dtype: int64"
            ]
          },
          "metadata": {},
          "execution_count": 34
        }
      ]
    },
    {
      "cell_type": "code",
      "source": [
        "sns.relplot(x='Avg. Session Length', y='Yearly Amount Spent', data=df);"
      ],
      "metadata": {
        "colab": {
          "base_uri": "https://localhost:8080/",
          "height": 369
        },
        "id": "hE4Ct1AidqPA",
        "outputId": "dcecf87e-b307-46e3-dcf5-493a36695937"
      },
      "execution_count": 35,
      "outputs": [
        {
          "output_type": "display_data",
          "data": {
            "text/plain": [
              "<Figure size 360x360 with 1 Axes>"
            ],
            "image/png": "[encoded data removed]"
          },
          "metadata": {
            "needs_background": "light"
          }
        }
      ]
    },
    {
      "cell_type": "code",
      "source": [
        "sns.relplot(x='Time on App', y='Yearly Amount Spent', data=df);"
      ],
      "metadata": {
        "colab": {
          "base_uri": "https://localhost:8080/",
          "height": 369
        },
        "id": "1o7eeD5Ef8zE",
        "outputId": "6b9f1129-2e2b-430e-9460-d542c6675e9f"
      },
      "execution_count": 36,
      "outputs": [
        {
          "output_type": "display_data",
          "data": {
            "text/plain": [
              "<Figure size 360x360 with 1 Axes>"
            ],
            "image/png": "[encoded data removed]"
          },
          "metadata": {
            "needs_background": "light"
          }
        }
      ]
    },
    {
      "cell_type": "code",
      "source": [
        "fig, ax=plt.subplots(nrows=2, ncols=2, figsize=(10,10))\n",
        "ax[0,0].scatter(df['Avg. Session Length'], df['Yearly Amount Spent'])\n",
        "ax[0,0].set_title(\"Avg Session Length vs Yearly Amount spent\")\n",
        "\n",
        "ax[0,1].scatter(df['Time on App'],df['Yearly Amount Spent'])\n",
        "ax[0,1].set_title(\"Time on App vs Yearly Amoutn Spent\")\n",
        "\n",
        "ax[1,0].scatter(df['Time on Website'], df['Yearly Amount Spent'])\n",
        "ax[1,0].set_title(\"Time on Website vs Yearly Amount Spent\")\n",
        "\n",
        "ax[1,1].scatter(df['Length of Membership'], df['Yearly Amount Spent'])\n",
        "ax[1,1].set_title('Length of Membership vs Yearly Amount Spent');"
      ],
      "metadata": {
        "colab": {
          "base_uri": "https://localhost:8080/",
          "height": 607
        },
        "id": "UgbNmYe8hxV2",
        "outputId": "c9d64d36-ca91-4bf4-af82-412b0e12091f"
      },
      "execution_count": 37,
      "outputs": [
        {
          "output_type": "display_data",
          "data": {
            "text/plain": [
              "<Figure size 720x720 with 4 Axes>"
            ],
            "image/png": "[encoded data removed]"
          },
          "metadata": {
            "needs_background": "light"
          }
        }
      ]
    },
    {
      "cell_type": "code",
      "source": [
        "df.drop(['Email','Address','Avatar'], axis=1, inplace=True)"
      ],
      "metadata": {
        "id": "lmovYrImixbo"
      },
      "execution_count": 38,
      "outputs": []
    },
    {
      "cell_type": "code",
      "source": [
        "df.head()"
      ],
      "metadata": {
        "colab": {
          "base_uri": "https://localhost:8080/",
          "height": 206
        },
        "id": "cOPp7hEEkJ86",
        "outputId": "491b99a9-36df-4ae6-eaf0-4ffe2ab5f712"
      },
      "execution_count": 39,
      "outputs": [
        {
          "output_type": "execute_result",
          "data": {
            "text/plain": [
              "   Avg. Session Length  Time on App  Time on Website  Length of Membership  \\\n",
              "0            34.497268    12.655651        39.577668              4.082621   \n",
              "1            31.926272    11.109461        37.268959              2.664034   \n",
              "2            33.000915    11.330278        37.110597              4.104543   \n",
              "3            34.305557    13.717514        36.721283              3.120179   \n",
              "4            33.330673    12.795189        37.536653              4.446308   \n",
              "\n",
              "   Yearly Amount Spent  \n",
              "0           587.951054  \n",
              "1           392.204933  \n",
              "2           487.547505  \n",
              "3           581.852344  \n",
              "4           599.406092  "
            ],
            "text/html": [
              "\n",
              "  <div id=\"df-02a48208-99e5-4ea1-a00d-e5cf6292ad9a\">\n",
              "    <div class=\"colab-df-container\">\n",
              "      <div>\n",
              "<style scoped>\n",
              "    .dataframe tbody tr th:only-of-type {\n",
              "        vertical-align: middle;\n",
              "    }\n",
              "\n",
              "    .dataframe tbody tr th {\n",
              "        vertical-align: top;\n",
              "    }\n",
              "\n",
              "    .dataframe thead th {\n",
              "        text-align: right;\n",
              "    }\n",
              "</style>\n",
              "<table border=\"1\" class=\"dataframe\">\n",
              "  <thead>\n",
              "    <tr style=\"text-align: right;\">\n",
              "      <th></th>\n",
              "      <th>Avg. Session Length</th>\n",
              "      <th>Time on App</th>\n",
              "      <th>Time on Website</th>\n",
              "      <th>Length of Membership</th>\n",
              "      <th>Yearly Amount Spent</th>\n",
              "    </tr>\n",
              "  </thead>\n",
              "  <tbody>\n",
              "    <tr>\n",
              "      <th>0</th>\n",
              "      <td>34.497268</td>\n",
              "      <td>12.655651</td>\n",
              "      <td>39.577668</td>\n",
              "      <td>4.082621</td>\n",
              "      <td>587.951054</td>\n",
              "    </tr>\n",
              "    <tr>\n",
              "      <th>1</th>\n",
              "      <td>31.926272</td>\n",
              "      <td>11.109461</td>\n",
              "      <td>37.268959</td>\n",
              "      <td>2.664034</td>\n",
              "      <td>392.204933</td>\n",
              "    </tr>\n",
              "    <tr>\n",
              "      <th>2</th>\n",
              "      <td>33.000915</td>\n",
              "      <td>11.330278</td>\n",
              "      <td>37.110597</td>\n",
              "      <td>4.104543</td>\n",
              "      <td>487.547505</td>\n",
              "    </tr>\n",
              "    <tr>\n",
              "      <th>3</th>\n",
              "      <td>34.305557</td>\n",
              "      <td>13.717514</td>\n",
              "      <td>36.721283</td>\n",
              "      <td>3.120179</td>\n",
              "      <td>581.852344</td>\n",
              "    </tr>\n",
              "    <tr>\n",
              "      <th>4</th>\n",
              "      <td>33.330673</td>\n",
              "      <td>12.795189</td>\n",
              "      <td>37.536653</td>\n",
              "      <td>4.446308</td>\n",
              "      <td>599.406092</td>\n",
              "    </tr>\n",
              "  </tbody>\n",
              "</table>\n",
              "</div>\n",
              "      <button class=\"colab-df-convert\" onclick=\"convertToInteractive('df-02a48208-99e5-4ea1-a00d-e5cf6292ad9a')\"\n",
              "              title=\"Convert this dataframe to an interactive table.\"\n",
              "              style=\"display:none;\">\n",
              "        \n",
              "  <svg xmlns=\"http://www.w3.org/2000/svg\" height=\"24px\"viewBox=\"0 0 24 24\"\n",
              "       width=\"24px\">\n",
              "    <path d=\"M0 0h24v24H0V0z\" fill=\"none\"/>\n",
              "    <path d=\"M18.56 5.44l.94 2.06.94-2.06 2.06-.94-2.06-.94-.94-2.06-.94 2.06-2.06.94zm-11 1L8.5 8.5l.94-2.06 2.06-.94-2.06-.94L8.5 2.5l-.94 2.06-2.06.94zm10 10l.94 2.06.94-2.06 2.06-.94-2.06-.94-.94-2.06-.94 2.06-2.06.94z\"/><path d=\"M17.41 7.96l-1.37-1.37c-.4-.4-.92-.59-1.43-.59-.52 0-1.04.2-1.43.59L10.3 9.45l-7.72 7.72c-.78.78-.78 2.05 0 2.83L4 21.41c.39.39.9.59 1.41.59.51 0 1.02-.2 1.41-.59l7.78-7.78 2.81-2.81c.8-.78.8-2.07 0-2.86zM5.41 20L4 18.59l7.72-7.72 1.47 1.35L5.41 20z\"/>\n",
              "  </svg>\n",
              "      </button>\n",
              "      \n",
              "  <style>\n",
              "    .colab-df-container {\n",
              "      display:flex;\n",
              "      flex-wrap:wrap;\n",
              "      gap: 12px;\n",
              "    }\n",
              "\n",
              "    .colab-df-convert {\n",
              "      background-color: #E8F0FE;\n",
              "      border: none;\n",
              "      border-radius: 50%;\n",
              "      cursor: pointer;\n",
              "      display: none;\n",
              "      fill: #1967D2;\n",
              "      height: 32px;\n",
              "      padding: 0 0 0 0;\n",
              "      width: 32px;\n",
              "    }\n",
              "\n",
              "    .colab-df-convert:hover {\n",
              "      background-color: #E2EBFA;\n",
              "      box-shadow: 0px 1px 2px rgba(60, 64, 67, 0.3), 0px 1px 3px 1px rgba(60, 64, 67, 0.15);\n",
              "      fill: #174EA6;\n",
              "    }\n",
              "\n",
              "    [theme=dark] .colab-df-convert {\n",
              "      background-color: #3B4455;\n",
              "      fill: #D2E3FC;\n",
              "    }\n",
              "\n",
              "    [theme=dark] .colab-df-convert:hover {\n",
              "      background-color: #434B5C;\n",
              "      box-shadow: 0px 1px 3px 1px rgba(0, 0, 0, 0.15);\n",
              "      filter: drop-shadow(0px 1px 2px rgba(0, 0, 0, 0.3));\n",
              "      fill: #FFFFFF;\n",
              "    }\n",
              "  </style>\n",
              "\n",
              "      <script>\n",
              "        const buttonEl =\n",
              "          document.querySelector('#df-02a48208-99e5-4ea1-a00d-e5cf6292ad9a button.colab-df-convert');\n",
              "        buttonEl.style.display =\n",
              "          google.colab.kernel.accessAllowed ? 'block' : 'none';\n",
              "\n",
              "        async function convertToInteractive(key) {\n",
              "          const element = document.querySelector('#df-02a48208-99e5-4ea1-a00d-e5cf6292ad9a');\n",
              "          const dataTable =\n",
              "            await google.colab.kernel.invokeFunction('convertToInteractive',\n",
              "                                                     [key], {});\n",
              "          if (!dataTable) return;\n",
              "\n",
              "          const docLinkHtml = 'Like what you see? Visit the ' +\n",
              "            '<a target=\"_blank\" href=https://colab.research.google.com/notebooks/data_table.ipynb>data table notebook</a>'\n",
              "            + ' to learn more about interactive tables.';\n",
              "          element.innerHTML = '';\n",
              "          dataTable['output_type'] = 'display_data';\n",
              "          await google.colab.output.renderOutput(dataTable, element);\n",
              "          const docLink = document.createElement('div');\n",
              "          docLink.innerHTML = docLinkHtml;\n",
              "          element.appendChild(docLink);\n",
              "        }\n",
              "      </script>\n",
              "    </div>\n",
              "  </div>\n",
              "  "
            ]
          },
          "metadata": {},
          "execution_count": 39
        }
      ]
    },
    {
      "cell_type": "code",
      "source": [
        "sns.boxplot(x=df['Avg. Session Length']);"
      ],
      "metadata": {
        "colab": {
          "base_uri": "https://localhost:8080/",
          "height": 279
        },
        "id": "lyLSUvL4kOwA",
        "outputId": "c19235e0-1a9f-4a7c-8596-214ee10cc1be"
      },
      "execution_count": 40,
      "outputs": [
        {
          "output_type": "display_data",
          "data": {
            "text/plain": [
              "<Figure size 432x288 with 1 Axes>"
            ],
            "image/png": "[encoded data removed]"
          },
          "metadata": {
            "needs_background": "light"
          }
        }
      ]
    },
    {
      "cell_type": "code",
      "source": [
        "sns.boxplot(x=df['Time on Website']);"
      ],
      "metadata": {
        "colab": {
          "base_uri": "https://localhost:8080/",
          "height": 279
        },
        "id": "cobjQhPBlLuP",
        "outputId": "88c08d9e-60a0-44c0-fd02-da5458a6f471"
      },
      "execution_count": 41,
      "outputs": [
        {
          "output_type": "display_data",
          "data": {
            "text/plain": [
              "<Figure size 432x288 with 1 Axes>"
            ],
            "image/png": "[encoded data removed]"
          },
          "metadata": {
            "needs_background": "light"
          }
        }
      ]
    },
    {
      "cell_type": "code",
      "source": [
        "sns.boxplot(x=df['Time on App']);"
      ],
      "metadata": {
        "colab": {
          "base_uri": "https://localhost:8080/",
          "height": 279
        },
        "id": "07mMZqyRla7S",
        "outputId": "96b31ac3-f338-4631-e5c1-80835d73e14c"
      },
      "execution_count": 42,
      "outputs": [
        {
          "output_type": "display_data",
          "data": {
            "text/plain": [
              "<Figure size 432x288 with 1 Axes>"
            ],
            "image/png": "[encoded data removed]"
          },
          "metadata": {
            "needs_background": "light"
          }
        }
      ]
    },
    {
      "cell_type": "code",
      "source": [
        "sns.boxplot(x=df['Length of Membership']);"
      ],
      "metadata": {
        "colab": {
          "base_uri": "https://localhost:8080/",
          "height": 279
        },
        "id": "Cla97lyQlmdB",
        "outputId": "440c1226-8bc8-47e4-b95f-58d7059a9b48"
      },
      "execution_count": 43,
      "outputs": [
        {
          "output_type": "display_data",
          "data": {
            "text/plain": [
              "<Figure size 432x288 with 1 Axes>"
            ],
            "image/png": "[encoded data removed]"
          },
          "metadata": {
            "needs_background": "light"
          }
        }
      ]
    },
    {
      "cell_type": "code",
      "source": [
        "q1=np.percentile(df['Time on Website'], 25, interpolation='midpoint')\n",
        "q3=np.percentile(df['Time on Website'], 75, interpolation='midpoint')\n",
        "iqr=q3-q1\n",
        "print(df.shape)\n",
        "upper=np.where(df['Time on Website']>=(q3+1.5*iqr))\n",
        "lower=np.where(df['Time on Website']<=(q1-1.5*iqr))\n",
        "df.drop(upper[0], inplace=True)\n",
        "df.drop(lower[0], inplace=True)\n",
        "print(df.shape)"
      ],
      "metadata": {
        "colab": {
          "base_uri": "https://localhost:8080/"
        },
        "id": "azuvfi_6lt2F",
        "outputId": "98ac14bd-c0de-4707-f2f1-bdf14242eec4"
      },
      "execution_count": 44,
      "outputs": [
        {
          "output_type": "stream",
          "name": "stdout",
          "text": [
            "(500, 5)\n",
            "(498, 5)\n"
          ]
        }
      ]
    },
    {
      "cell_type": "code",
      "source": [
        "q1=np.percentile(df['Time on App'], 25, interpolation='midpoint')\n",
        "q3=np.percentile(df['Time on App'], 75, interpolation='midpoint')\n",
        "iqr=q3-q1\n",
        "print(df.shape)\n",
        "upper=np.where(df['Time on App']>=(q3+1.5*iqr))\n",
        "lower=np.where(df['Time on App']<=(q1-1.5*iqr))\n",
        "df.drop(upper[0], inplace=True)\n",
        "df.drop(lower[0], inplace=True)\n",
        "print(df.shape)"
      ],
      "metadata": {
        "colab": {
          "base_uri": "https://localhost:8080/"
        },
        "id": "2wjdmk8FnhOe",
        "outputId": "905569e0-4e73-49f8-b11e-86685204a6fc"
      },
      "execution_count": 45,
      "outputs": [
        {
          "output_type": "stream",
          "name": "stdout",
          "text": [
            "(498, 5)\n",
            "(494, 5)\n"
          ]
        }
      ]
    },
    {
      "cell_type": "code",
      "source": [
        "q1=np.percentile(df['Avg. Session Length'], 25, interpolation='midpoint')\n",
        "q3=np.percentile(df['Avg. Session Length'], 75, interpolation='midpoint')\n",
        "iqr=q3-q1\n",
        "print(df.shape)\n",
        "upper=np.where(df['Avg. Session Length']>=(q3+1.5*iqr))\n",
        "lower=np.where(df['Avg. Session Length']<=(q1-1.5*iqr))\n",
        "df.drop(upper[0], inplace=True)\n",
        "df.drop(lower[0], inplace=True)\n",
        "print(df.shape)"
      ],
      "metadata": {
        "colab": {
          "base_uri": "https://localhost:8080/"
        },
        "id": "A2F0TnQEny0a",
        "outputId": "f0a36084-0d51-432c-d623-73aeb6ad4dae"
      },
      "execution_count": 46,
      "outputs": [
        {
          "output_type": "stream",
          "name": "stdout",
          "text": [
            "(494, 5)\n",
            "(491, 5)\n"
          ]
        }
      ]
    },
    {
      "cell_type": "code",
      "source": [
        "q1=np.percentile(df['Length of Membership'], 25, interpolation='midpoint')\n",
        "q3=np.percentile(df['Length of Membership'], 75, interpolation='midpoint')\n",
        "iqr=q3-q1\n",
        "print(df.shape)\n",
        "upper=np.where(df['Length of Membership']>=(q3+1.5*iqr))\n",
        "lower=np.where(df['Length of Membership']<=(q1-1.5*iqr))\n",
        "df.drop(upper[0], inplace=True)\n",
        "df.drop(lower[0], inplace=True)\n",
        "print(df.shape)"
      ],
      "metadata": {
        "colab": {
          "base_uri": "https://localhost:8080/"
        },
        "id": "xciqjWDLoAGb",
        "outputId": "ebb7040c-ea3c-49f2-ab29-df961f46b3da"
      },
      "execution_count": 47,
      "outputs": [
        {
          "output_type": "stream",
          "name": "stdout",
          "text": [
            "(491, 5)\n",
            "(481, 5)\n"
          ]
        }
      ]
    },
    {
      "cell_type": "code",
      "source": [
        "X=df.drop(['Yearly Amount Spent'], axis=1)\n",
        "y=df['Yearly Amount Spent']"
      ],
      "metadata": {
        "id": "0J-XiADLlOr1"
      },
      "execution_count": 48,
      "outputs": []
    },
    {
      "cell_type": "code",
      "source": [
        "from sklearn.model_selection import train_test_split\n",
        "X_train, X_test, y_train, y_test=train_test_split(X, y, test_size=0.3)"
      ],
      "metadata": {
        "id": "6GTuLeuPln1O"
      },
      "execution_count": 49,
      "outputs": []
    },
    {
      "cell_type": "code",
      "source": [
        "from sklearn.preprocessing import MinMaxScaler\n",
        "mms = MinMaxScaler()\n",
        "X_train = mms.fit_transform(X_train)\n",
        "X_test = mms.transform (X_test)"
      ],
      "metadata": {
        "id": "qrPQmnMJl4K5"
      },
      "execution_count": 52,
      "outputs": []
    },
    {
      "cell_type": "code",
      "source": [
        "X_train"
      ],
      "metadata": {
        "colab": {
          "base_uri": "https://localhost:8080/"
        },
        "id": "80oBMHxpnXb1",
        "outputId": "ebd9e2db-4755-488a-fa78-a63fc8942c18"
      },
      "execution_count": 53,
      "outputs": [
        {
          "output_type": "execute_result",
          "data": {
            "text/plain": [
              "array([[0.32807205, 0.6475217 , 0.42563721, 0.55797006],\n",
              "       [0.26678733, 0.41907684, 0.5373817 , 0.40958274],\n",
              "       [0.48999321, 0.80933958, 0.86139951, 0.47502105],\n",
              "       ...,\n",
              "       [0.49824448, 0.86188294, 0.63579086, 0.97631758],\n",
              "       [0.24805316, 0.43793949, 0.22962343, 0.59637137],\n",
              "       [0.26389073, 0.45738743, 0.35544202, 0.86299333]])"
            ]
          },
          "metadata": {},
          "execution_count": 53
        }
      ]
    },
    {
      "cell_type": "code",
      "source": [
        "X_test"
      ],
      "metadata": {
        "colab": {
          "base_uri": "https://localhost:8080/"
        },
        "id": "tJIME3sTnkB8",
        "outputId": "5398c4cc-3219-4cb9-baeb-2a08243c197e"
      },
      "execution_count": 54,
      "outputs": [
        {
          "output_type": "execute_result",
          "data": {
            "text/plain": [
              "array([[0.42732406, 0.39711881, 0.41045943, 0.44498773],\n",
              "       [0.57823182, 0.63001577, 0.24907813, 0.4217507 ],\n",
              "       [0.55221474, 0.60051003, 0.5390397 , 0.38700217],\n",
              "       [0.28793575, 0.67822255, 0.61285696, 0.58268163],\n",
              "       [0.54750263, 0.32645795, 0.49231232, 0.33272837],\n",
              "       [0.45874141, 0.52481665, 0.62775737, 0.41945423],\n",
              "       [0.67607731, 0.53398484, 0.3525344 , 0.31606284],\n",
              "       [0.53570483, 0.50813463, 0.30281947, 0.63766713],\n",
              "       [0.95137439, 0.5191537 , 0.46293383, 0.53826323],\n",
              "       [0.39710758, 0.65827082, 0.61723916, 0.39379973],\n",
              "       [0.57686968, 0.93721317, 0.23961093, 0.57558044],\n",
              "       [0.01728923, 0.49213279, 0.28863935, 0.20729748],\n",
              "       [0.57560492, 0.79961935, 0.49940507, 0.36083284],\n",
              "       [0.28044456, 0.46511161, 0.54967175, 0.60449681],\n",
              "       [0.29987335, 0.62387562, 0.53026899, 0.48237519],\n",
              "       [0.71491326, 0.63465698, 0.58849525, 0.63956555],\n",
              "       [0.29335587, 0.67949045, 0.39797932, 0.14869943],\n",
              "       [0.79047037, 0.35769006, 0.4627497 , 0.64643566],\n",
              "       [0.52865644, 0.78013467, 0.6715332 , 0.42751472],\n",
              "       [0.74172409, 0.29480444, 0.32341629, 0.70599496],\n",
              "       [0.75453098, 0.55721198, 0.39854367, 0.45977942],\n",
              "       [0.28493369, 0.66632723, 0.67843424, 0.81573369],\n",
              "       [0.68315635, 0.78846369, 0.54182494, 0.57074693],\n",
              "       [0.54129167, 0.62689485, 0.10314819, 0.11953557],\n",
              "       [0.43680085, 0.50737946, 0.44185004, 0.6243311 ],\n",
              "       [0.18346228, 0.25671332, 0.68644569, 0.67890383],\n",
              "       [0.47248969, 0.70630838, 0.39465431, 0.73977681],\n",
              "       [0.69555285, 0.66648721, 0.76821857, 0.44560532],\n",
              "       [0.79603983, 0.87177977, 0.66884667, 0.8206247 ],\n",
              "       [0.42526157, 0.28167078, 0.32084735, 0.08889518],\n",
              "       [0.19708905, 0.45622303, 0.49322121, 0.60584545],\n",
              "       [0.76947992, 0.58106267, 0.34871946, 0.70476377],\n",
              "       [0.29499741, 0.54769825, 0.13708316, 0.69797595],\n",
              "       [0.40618526, 0.72580194, 0.4184989 , 0.35891193],\n",
              "       [0.57093109, 0.7186357 , 0.54972813, 0.50631292],\n",
              "       [0.1951723 , 0.6585088 , 0.98610114, 0.59566399],\n",
              "       [0.6107277 , 0.5091984 , 0.55129842, 0.68210078],\n",
              "       [0.54971477, 0.42091503, 0.448735  , 0.642895  ],\n",
              "       [0.49982963, 0.73205831, 0.82737199, 0.73638448],\n",
              "       [0.57730466, 0.83073951, 0.62503613, 0.18694907],\n",
              "       [0.48447417, 0.5017733 , 0.28716328, 0.57553827],\n",
              "       [0.37302681, 0.42099481, 0.48164604, 0.66024926],\n",
              "       [0.38265329, 0.29104193, 0.43346344, 0.77347772],\n",
              "       [0.41705338, 0.50939163, 0.56428649, 0.53800292],\n",
              "       [0.35369713, 0.47376154, 0.5972833 , 0.39639843],\n",
              "       [0.30091132, 0.47160797, 0.3361771 , 0.78403897],\n",
              "       [0.28906007, 0.7477592 , 0.61079632, 0.67160193],\n",
              "       [0.4197416 , 0.53603959, 0.36533742, 0.54226312],\n",
              "       [0.50455301, 0.54748296, 0.75946986, 0.53150181],\n",
              "       [0.17339333, 0.40051192, 0.6924121 , 0.54042735],\n",
              "       [0.49499458, 0.81485672, 0.37359782, 0.59478096],\n",
              "       [0.51600542, 0.67591053, 0.31257245, 0.41986006],\n",
              "       [0.26431693, 0.52919206, 0.34277131, 0.36358576],\n",
              "       [0.36583004, 0.71854427, 0.7350738 , 0.15920194],\n",
              "       [0.65208793, 0.49303342, 0.8549107 , 0.65231136],\n",
              "       [0.40609223, 0.72179605, 0.38206989, 0.65750713],\n",
              "       [0.70796934, 0.54919192, 0.63317757, 0.69816575],\n",
              "       [0.36388827, 0.39068925, 0.3981414 , 0.51176582],\n",
              "       [0.38564458, 0.32690163, 0.24129021, 0.6234898 ],\n",
              "       [0.61474357, 0.56432042, 0.42807879, 0.42487537],\n",
              "       [0.65288416, 0.70796618, 0.41078501, 0.33430159],\n",
              "       [0.11626959, 0.6201611 , 0.32510724, 0.65341918],\n",
              "       [0.5073346 , 0.5128747 , 0.57817554, 0.24735713],\n",
              "       [0.57552051, 0.55036462, 0.53277667, 0.62192711],\n",
              "       [0.69210089, 0.54446916, 0.65141578, 0.47503466],\n",
              "       [0.3323016 , 0.69390642, 0.66996233, 0.74342238],\n",
              "       [0.3936694 , 0.54947289, 0.23854117, 0.32329831],\n",
              "       [0.66445513, 0.36442903, 0.03328175, 0.80668325],\n",
              "       [0.3718076 , 0.52190377, 0.47404548, 0.0909474 ],\n",
              "       [0.40025473, 0.65932706, 0.55685147, 0.54695467],\n",
              "       [0.64221577, 0.02580816, 0.27520355, 0.33916918],\n",
              "       [0.50531776, 0.64165548, 0.72407059, 0.41736548],\n",
              "       [0.54130998, 0.43904615, 0.52625593, 0.3508203 ],\n",
              "       [0.54963511, 0.55237844, 0.27395183, 0.73108872],\n",
              "       [0.58401742, 0.42353608, 0.75533345, 0.74001731],\n",
              "       [0.4684806 , 0.73871616, 0.73883413, 0.76650653],\n",
              "       [0.4533565 , 0.39287857, 0.61029742, 0.60837439],\n",
              "       [0.69367879, 0.71251952, 0.36248527, 0.60267431],\n",
              "       [0.66033322, 0.29191161, 0.57288139, 0.31221516],\n",
              "       [0.45234467, 0.72434982, 0.48273714, 0.74427607],\n",
              "       [0.72437126, 0.59001682, 0.89578058, 0.58050154],\n",
              "       [0.61174523, 0.70992869, 0.88380296, 0.2074246 ],\n",
              "       [0.34280768, 0.63683476, 0.62912057, 0.75177647],\n",
              "       [0.54895597, 0.35880881, 0.57383788, 0.61477181],\n",
              "       [0.40636638, 0.74048345, 0.84707577, 0.43628164],\n",
              "       [0.58939967, 0.54927577, 0.45573265, 0.57569263],\n",
              "       [0.49688204, 0.50722096, 0.39873784, 0.52923057],\n",
              "       [0.46519906, 0.50990125, 0.64741398, 0.42039062],\n",
              "       [0.31456035, 0.60716717, 0.72285139, 0.52119904],\n",
              "       [0.7331548 , 0.5241837 , 0.70243332, 0.26532601],\n",
              "       [0.28337548, 0.46046202, 0.42475371, 0.75532783],\n",
              "       [0.34952667, 0.57693275, 0.73772936, 0.61646756],\n",
              "       [0.29021774, 0.66330342, 0.20445023, 0.87975957],\n",
              "       [0.53386993, 0.38036445, 0.22048268, 0.54770731],\n",
              "       [0.4711013 , 0.53549767, 0.45510864, 0.57179944],\n",
              "       [0.46681089, 0.61407256, 0.64327596, 0.54281205],\n",
              "       [0.60638791, 0.64594201, 0.51485578, 0.41059337],\n",
              "       [0.42236748, 0.50372523, 0.17163162, 0.65945043],\n",
              "       [0.62985275, 0.70988414, 0.30204243, 0.55055003],\n",
              "       [0.5003318 , 0.41970017, 0.56028263, 0.64134038],\n",
              "       [0.70559514, 0.33824586, 0.45079814, 0.52975276],\n",
              "       [0.43399107, 0.62492104, 0.56859978, 1.04893333],\n",
              "       [0.47603213, 0.3045326 , 0.42467997, 0.61415466],\n",
              "       [0.53707455, 0.66063817, 0.52976689, 0.67336223],\n",
              "       [0.3561461 , 0.63087317, 0.86069941, 0.79558261],\n",
              "       [0.23883051, 0.63385133, 0.70343265, 0.61252286],\n",
              "       [0.36979386, 0.48348437, 0.40849279, 0.47093831],\n",
              "       [0.43019684, 0.57460009, 0.21022959, 0.36425495],\n",
              "       [0.6819799 , 0.53202986, 0.56532294, 0.37700303],\n",
              "       [0.75178779, 0.56879687, 0.60788992, 0.74633662],\n",
              "       [0.75109289, 0.34534563, 0.51371751, 0.50439933],\n",
              "       [0.39216928, 0.48189841, 0.74209227, 0.80207433],\n",
              "       [0.39179344, 0.66525671, 0.39267142, 0.84799556],\n",
              "       [0.59489463, 0.43153778, 0.35067667, 0.68980153],\n",
              "       [0.57850567, 0.37034424, 0.29552046, 0.58702366],\n",
              "       [0.29634229, 0.37000987, 0.55736033, 0.41566076],\n",
              "       [0.66911548, 0.49009708, 0.24875352, 0.66946846],\n",
              "       [0.46716376, 0.4766747 , 0.23073829, 0.26334475],\n",
              "       [0.41310374, 0.41372801, 0.05829284, 0.39434216],\n",
              "       [0.47873662, 0.52018141, 0.66560859, 0.32850868],\n",
              "       [0.62878591, 0.71660315, 0.80416617, 0.51423087],\n",
              "       [0.37241167, 0.90436907, 0.75628718, 0.86397527],\n",
              "       [0.32692438, 0.80178316, 0.59164211, 0.48182937],\n",
              "       [0.51872337, 0.42454986, 0.28283345, 0.88696287],\n",
              "       [0.51118059, 0.69065149, 0.58890387, 0.71449006],\n",
              "       [0.37250858, 0.60980669, 0.49805357, 0.57318959],\n",
              "       [0.56083977, 0.55229649, 0.82602005, 0.57813736],\n",
              "       [0.31917195, 0.84103062, 0.67751051, 0.77544886],\n",
              "       [0.68660228, 0.35574661, 0.73720895, 0.40755104],\n",
              "       [0.91145731, 0.58274732, 0.71422071, 0.64139594],\n",
              "       [0.65251774, 0.75228698, 0.84284174, 0.50657346],\n",
              "       [0.64162354, 0.49672476, 0.38108738, 0.74982549],\n",
              "       [0.54964356, 0.58809322, 0.40384371, 0.8868784 ],\n",
              "       [0.32414928, 0.31775091, 0.55079867, 0.72609155],\n",
              "       [0.58625209, 0.23784537, 0.28034104, 0.6134111 ],\n",
              "       [0.33527901, 0.62990378, 0.3230468 , 0.50505205],\n",
              "       [0.66194897, 0.72905468, 0.50039665, 0.40434533],\n",
              "       [0.41369821, 0.46133504, 0.15101304, 0.64401937],\n",
              "       [0.55779136, 0.49589989, 0.88876139, 0.57045809],\n",
              "       [0.39328384, 0.49851179, 0.54522083, 0.43104055],\n",
              "       [0.54777766, 0.53868405, 0.56732735, 0.25624522],\n",
              "       [0.25404957, 0.58660951, 0.54823206, 0.5289574 ],\n",
              "       [0.29965042, 0.54953454, 0.92714234, 0.20077916],\n",
              "       [0.45823474, 0.75374308, 0.69096421, 0.44966032],\n",
              "       [0.66255451, 0.67013033, 0.57935676, 0.5870909 ]])"
            ]
          },
          "metadata": {},
          "execution_count": 54
        }
      ]
    },
    {
      "cell_type": "code",
      "source": [
        "from sklearn.linear_model import LinearRegression\n",
        "linreg=LinearRegression()\n",
        "linreg.fit(X_train, y_train)\n",
        "linreg.score(X_train, y_train)"
      ],
      "metadata": {
        "colab": {
          "base_uri": "https://localhost:8080/"
        },
        "id": "W7gtv_C8ojO4",
        "outputId": "d0834c69-ecb2-4abe-bb1c-b85e326718ec"
      },
      "execution_count": 55,
      "outputs": [
        {
          "output_type": "execute_result",
          "data": {
            "text/plain": [
              "0.9818135568554817"
            ]
          },
          "metadata": {},
          "execution_count": 55
        }
      ]
    },
    {
      "cell_type": "code",
      "source": [
        "linreg.score(X_test, y_test)"
      ],
      "metadata": {
        "colab": {
          "base_uri": "https://localhost:8080/"
        },
        "id": "r1qXmkEBpsnQ",
        "outputId": "00b60e87-66da-4ed4-84ae-4e520ae1096c"
      },
      "execution_count": 56,
      "outputs": [
        {
          "output_type": "execute_result",
          "data": {
            "text/plain": [
              "0.9879977341112407"
            ]
          },
          "metadata": {},
          "execution_count": 56
        }
      ]
    },
    {
      "cell_type": "code",
      "source": [
        "linreg_predict=linreg.predict(X_test)\n",
        "linreg_predict"
      ],
      "metadata": {
        "colab": {
          "base_uri": "https://localhost:8080/"
        },
        "id": "Q4dJ2G4vpu5T",
        "outputId": "9cb8235a-5252-4bbe-c629-b27a804425f7"
      },
      "execution_count": 57,
      "outputs": [
        {
          "output_type": "execute_result",
          "data": {
            "text/plain": [
              "array([411.26331398, 481.71599773, 458.06098615, 507.63935765,\n",
              "       371.76064256, 437.46060059, 435.10783643, 523.20575928,\n",
              "       551.78291213, 451.39235155, 610.80351698, 288.45070934,\n",
              "       500.29915043, 462.89891104, 460.4411484 , 580.79338149,\n",
              "       353.58254141, 527.63743584, 512.36193424, 526.64697346,\n",
              "       503.75512266, 587.6858898 , 588.65049774, 367.42816082,\n",
              "       503.47635866, 424.69495656, 598.1894841 , 516.04459231,\n",
              "       714.854148  , 255.67758026, 448.92171495, 599.46244515,\n",
              "       518.79871616, 456.72501639, 532.0726689 , 493.47315859,\n",
              "       550.29100701, 505.96477537, 606.90430771, 445.73025821,\n",
              "       491.84817764, 485.97552208, 496.57241115, 470.03718635,\n",
              "       401.32439867, 531.93782739, 556.43596484, 478.55769667,\n",
              "       489.72929129, 408.37417014, 575.86916615, 482.85194782,\n",
              "       389.92439714, 377.25261119, 541.61203112, 562.65067   ,\n",
              "       580.05461848, 424.21771116, 452.14697237, 472.23206005,\n",
              "       480.18611933, 493.71114977, 380.2189896 , 533.49394184,\n",
              "       496.67969207, 575.49534646, 399.66369904, 568.28517172,\n",
              "       306.4069103 , 506.98210135, 315.64193515, 471.76992307,\n",
              "       404.49317971, 569.4225387 , 546.20231649, 614.71785381,\n",
              "       472.42074101, 583.43306031, 372.73444671, 601.10203684,\n",
              "       550.02375294, 428.7699057 , 566.286887  , 480.68089632,\n",
              "       487.6503669 , 518.80093294, 478.33953262, 435.13378105,\n",
              "       472.32440337, 422.7616871 , 516.29773883, 504.29158906,\n",
              "       611.03424799, 459.92955358, 496.54131672, 504.36353212,\n",
              "       485.5322353 , 513.23992897, 554.72517585, 497.70473524,\n",
              "       468.60129472, 683.338087  , 456.65466876, 572.84994533,\n",
              "       582.31892945, 500.24814884, 432.89109138, 425.83225004,\n",
              "       457.15344732, 608.54968007, 467.93652858, 554.08455337,\n",
              "       615.04501559, 532.09704758, 478.13873701, 374.68114184,\n",
              "       550.05194134, 371.5174392 , 395.32122314, 406.72202022,\n",
              "       542.7895972 , 675.37199929, 507.19053922, 589.74179468,\n",
              "       590.9365087 , 500.34172026, 515.87623357, 620.55231861,\n",
              "       426.04476777, 597.94418205, 552.15750755, 576.23465259,\n",
              "       633.71185276, 477.29731155, 456.73184538, 475.42876615,\n",
              "       511.62477607, 496.20611998, 498.99980717, 425.6141739 ,\n",
              "       395.64038757, 461.30322479, 341.33650878, 503.45678088,\n",
              "       562.82643864])"
            ]
          },
          "metadata": {},
          "execution_count": 57
        }
      ]
    },
    {
      "cell_type": "code",
      "source": [
        "from sklearn.metrics import r2_score\n",
        "linreg_r2_score=r2_score(y_test, linreg_predict)"
      ],
      "metadata": {
        "id": "a1PfK8bKqZRk"
      },
      "execution_count": 58,
      "outputs": []
    },
    {
      "cell_type": "code",
      "source": [
        "linreg_r2_score"
      ],
      "metadata": {
        "colab": {
          "base_uri": "https://localhost:8080/"
        },
        "id": "ZqI5CwwjsGLB",
        "outputId": "5482622f-5681-40b2-ef2b-c91f1cef65da"
      },
      "execution_count": 59,
      "outputs": [
        {
          "output_type": "execute_result",
          "data": {
            "text/plain": [
              "0.9879977341112407"
            ]
          },
          "metadata": {},
          "execution_count": 59
        }
      ]
    },
    {
      "cell_type": "code",
      "source": [],
      "metadata": {
        "id": "1_d2PW9_sHrw"
      },
      "execution_count": null,
      "outputs": []
    }
  ]
}